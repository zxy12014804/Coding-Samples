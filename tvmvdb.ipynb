{
 "cells": [
  {
   "cell_type": "markdown",
   "metadata": {},
   "source": [
    "# Coding Example: Data Scraping of the TVMVDB Online Database\n",
    "\n",
    "**Introduction:** This is an excerpt from the code I wrote for an ongoing project to collect data from the TVMVDB Online Database (a comprehensive source of TV news clips in China, covering nearly 200 channels and over 1 million news clips)\n",
    "\n",
    "Script by Xiaoyang Zhang\n",
    "\n",
    "09/2022"
   ]
  },
  {
   "cell_type": "code",
   "execution_count": 1,
   "metadata": {},
   "outputs": [],
   "source": [
    "import requests\n",
    "import re\n",
    "import pprint\n",
    "import time\n",
    "from bs4 import BeautifulSoup\n",
    "from lxml import etree\n",
    "from urllib import parse\n",
    "import numpy as np\n",
    "import pandas as pd\n",
    "import math\n",
    "from tqdm import tqdm\n",
    "import datetime\n",
    "from fake_useragent import UserAgent\n",
    "\n",
    "%matplotlib inline\n",
    "import matplotlib.pyplot as plt\n",
    "\n",
    "import warnings\n",
    "warnings.filterwarnings('ignore')"
   ]
  },
  {
   "cell_type": "code",
   "execution_count": 16,
   "metadata": {},
   "outputs": [],
   "source": [
    "### Random User-Agent generator\n",
    "\n",
    "headers = {\"User-Agent\": \"Mozilla/5.0 (Macintosh; Intel Mac OS X 10_10_5) AppleWebKit/537.36 (KHTML, like Gecko) Chrome/87.0.4280.88 Safari/537.36\"}\n",
    "\n",
    "def random_all_headers(uuid='', keyword=''):\n",
    "    \n",
    "    if uuid == '':\n",
    "        referer = 'http://bjdx.tvmvdb.com/home/search/index.html?languageType=1&keyword=' + keyword\n",
    "    else:\n",
    "        referer = 'http://bjdx.tvmvdb.com/home/play/index.html?languageType=1&ids=' + uuid\n",
    "    \n",
    "    return {\n",
    "        'Accept': 'application/json, text/javascript, */*; q=0.01', \n",
    "        'Accept-Encoding': 'gzip, deflate', \n",
    "        'Accept-Language': 'zh-CN,zh;q=0.9', \n",
    "        'Connection': 'keep-alive', \n",
    "        #'Content-Length': '48', \n",
    "        'Content-Type': 'application/x-www-form-urlencoded; charset=UTF-8', \n",
    "        'Host': 'bjdx.tvmvdb.com', \n",
    "        'Origin': 'http://bjdx.tvmvdb.com', \n",
    "        'Referer': referer, \n",
    "        #'User-Agent': UserAgent(use_cache_server=False).random, \n",
    "        'User-Agent': UserAgent().random, \n",
    "        'X-Requested-With': 'XMLHttpRequest'\n",
    "    }"
   ]
  },
  {
   "cell_type": "code",
   "execution_count": 3,
   "metadata": {},
   "outputs": [
    {
     "name": "stdout",
     "output_type": "stream",
     "text": [
      "Mozilla/5.0 (Windows NT 6.1; Win64; x64; rv:22.0) Gecko/20130328 Firefox/22.0\n",
      "Mozilla/5.0 (Windows NT 6.1; WOW64; rv:29.0) Gecko/20120101 Firefox/29.0\n",
      "Mozilla/5.0 (Windows NT 5.1) AppleWebKit/537.36 (KHTML, like Gecko) Chrome/31.0.1650.16 Safari/537.36\n",
      "Mozilla/5.0 (Windows NT 5.1) AppleWebKit/537.36 (KHTML, like Gecko) Chrome/41.0.2224.3 Safari/537.36\n",
      "Mozilla/5.0 (Windows NT 6.3; WOW64) AppleWebKit/537.36 (KHTML, like Gecko) Chrome/41.0.2226.0 Safari/537.36\n",
      "Mozilla/4.0 (compatible; MSIE 8.0; Windows NT 6.1; WOW64; Trident/4.0; SLCC2; .NET CLR 2.0.50727; Media Center PC 6.0; .NET CLR 3.5.30729; .NET CLR 3.0.30729; .NET4.0C)\n",
      "Mozilla/5.0 (Windows NT 6.4; WOW64) AppleWebKit/537.36 (KHTML, like Gecko) Chrome/41.0.2225.0 Safari/537.36\n",
      "Mozilla/5.0 (Windows NT 5.1) AppleWebKit/537.36 (KHTML, like Gecko) Chrome/34.0.1866.237 Safari/537.36\n",
      "Mozilla/5.0 (Macintosh; Intel Mac OS X 10_9_2) AppleWebKit/537.36 (KHTML, like Gecko) Chrome/36.0.1944.0 Safari/537.36\n",
      "Mozilla/5.0 (compatible; MSIE 10.6; Windows NT 6.1; Trident/5.0; InfoPath.2; SLCC1; .NET CLR 3.0.4506.2152; .NET CLR 3.5.30729; .NET CLR 2.0.50727) 3gpp-gba UNTRUSTED/1.0\n"
     ]
    }
   ],
   "source": [
    "for i in range(10):\n",
    "    print(random_all_headers()['User-Agent'])"
   ]
  },
  {
   "cell_type": "markdown",
   "metadata": {},
   "source": [
    "## Extract transcribed text of videos"
   ]
  },
  {
   "cell_type": "code",
   "execution_count": 3,
   "metadata": {},
   "outputs": [],
   "source": [
    "### Extract text from video with already transcribed text\n",
    "\n",
    "def get_vtext_text(uuid):\n",
    "    voice_url = 'http://bjdx.tvmvdb.com/home/play/getvideovoice.html'\n",
    "\n",
    "    data = {\n",
    "        'token': '', \n",
    "        'uuid': uuid\n",
    "    }\n",
    "\n",
    "    voice_json = requests.post(url=voice_url, data=data, headers=random_all_headers(uuid=uuid)).json()\n",
    "    lines = voice_json[1]\n",
    "    vtext_text = ''\n",
    "    for line in lines:\n",
    "        vtext_text += line['text'] + ' '\n",
    "    \n",
    "    return vtext_text\n"
   ]
  },
  {
   "cell_type": "code",
   "execution_count": 4,
   "metadata": {},
   "outputs": [],
   "source": [
    "### Get url of video files\n",
    "\n",
    "def video_URL(uuid):\n",
    "    vpage_url = 'http://bjdx.tvmvdb.com/home/play/index.html?languageType=1&ids=' + uuid\n",
    "    random_ua = {'User-Agent': UserAgent().random}\n",
    "    vpage_text = requests.get(url=vpage_url, headers=random_ua).text\n",
    "    # print(vpage_text)\n",
    "    vURL = re.findall('(?<=videoUrl = \").*(?=\";)', vpage_text)[0]\n",
    "    return vURL\n"
   ]
  },
  {
   "cell_type": "code",
   "execution_count": 5,
   "metadata": {},
   "outputs": [],
   "source": [
    "### Extract text from untranscribed text: transcribe, then extract text\n",
    "\n",
    "def get_vtext_audio(uuid):\n",
    "    text_url = 'http://bjdx.tvmvdb.com/home/formatdata/getvideotext.html'\n",
    "\n",
    "    data = {\n",
    "        'video_url': video_URL(uuid), \n",
    "        'uuid': uuid\n",
    "    }\n",
    "\n",
    "    text_json = requests.post(url=text_url, data=data, headers=random_all_headers(uuid=uuid)).json()\n",
    "    lines = text_json[1]\n",
    "    vtext_audio = ''\n",
    "    for line in lines:\n",
    "        vtext_audio += line['text'].replace('\\n', '') + ' '\n",
    "    \n",
    "    return vtext_audio\n"
   ]
  },
  {
   "cell_type": "code",
   "execution_count": 6,
   "metadata": {},
   "outputs": [],
   "source": [
    "### Combine two text extraction methods above\n",
    "\n",
    "def get_vtext(uuid):\n",
    "    if get_vtext_text(uuid) != '':\n",
    "        return get_vtext_text(uuid)\n",
    "    else:\n",
    "        return get_vtext_audio(uuid)"
   ]
  },
  {
   "cell_type": "markdown",
   "metadata": {},
   "source": [
    "## Collect video information"
   ]
  },
  {
   "cell_type": "code",
   "execution_count": 23,
   "metadata": {},
   "outputs": [],
   "source": [
    "### Get info of 12 videos on each page\n",
    "\n",
    "def video_info_onepage(keyword_zh, date, channelid, pageid, in_page=12, lite=False):\n",
    "    all_info_list = []\n",
    "    \n",
    "    keyword = parse.quote(keyword_zh)\n",
    "    \n",
    "    url = 'http://bjdx.tvmvdb.com/home/search/getdata.html'\n",
    "    data = {\n",
    "        'keyword': keyword, \n",
    "        'page': str(pageid), \n",
    "        'mode': '3', \n",
    "        'date_limit_type': '0', \n",
    "        'date_sort': '0', \n",
    "        'date_time': date + ',' + date,\n",
    "        'search_way': '0', \n",
    "        'uid': '0', \n",
    "        'channels': str(channelid)\n",
    "    }\n",
    "    \n",
    "    print(requests.post(url=url, data=data, headers=random_all_headers(keyword=keyword)).json())\n",
    "    json_1 = requests.post(url=url, data=data, headers=random_all_headers(keyword=keyword)).json()[1]\n",
    "    \n",
    "    total_num = int(\n",
    "        json_1['status']['total']\n",
    "    )\n",
    "    \n",
    "    if total_num != 0: # At least one search result on given day\n",
    "        page_data = json_1['data']\n",
    "    \n",
    "        for video in page_data[:max(in_page, total_num % 12)]:            \n",
    "            pid = video['pid']\n",
    "            programme = video['pname']\n",
    "            date = list(map(lambda x: int(x), video['published'].split('-')))\n",
    "            tags = video['tags']\n",
    "#             if tags != '':\n",
    "#                 tags = tags.split(',')\n",
    "            title = video['title']\n",
    "            uid = video['uid']\n",
    "            channel = video['uname']\n",
    "            uuid = video['uuid'] #\n",
    "            #vURL = video_URL(uuid)\n",
    "            if lite == False:\n",
    "                vtext = get_vtext(uuid) # Order: get uuid, get url, get text\n",
    "            else:\n",
    "                vtext = \"\"\n",
    "\n",
    "            info_list = [channel, programme, date[0], date[1], date[2], title, tags, vtext, uuid, uid, pid]\n",
    "\n",
    "            all_info_list.append(info_list)\n",
    "    \n",
    "    return [total_num, all_info_list]\n",
    "    "
   ]
  },
  {
   "cell_type": "code",
   "execution_count": 9,
   "metadata": {},
   "outputs": [],
   "source": [
    "### Total number of given channel and date\n",
    "\n",
    "def tn_onechannel(keyword_zh, date, channelid, pageid, in_page=12):\n",
    "    \n",
    "    keyword = parse.quote(keyword_zh)\n",
    "    \n",
    "    url = 'http://bjdx.tvmvdb.com/home/search/getdata.html'\n",
    "    data = {\n",
    "        'keyword': keyword, \n",
    "        'page': str(pageid), \n",
    "        'mode': '3', \n",
    "        'date_limit_type': '0', \n",
    "        'date_sort': '0', \n",
    "        'date_time': date + ',' + date,\n",
    "        'search_way': '0', \n",
    "        'uid': '0', \n",
    "        'channels': str(channelid)\n",
    "    }\n",
    "    \n",
    "    total_num = int(\n",
    "        requests.post(url=url, data=data, headers=random_all_headers(keyword=keyword)).json()[1]['status']['total']\n",
    "    )\n",
    "    \n",
    "    return total_num\n"
   ]
  },
  {
   "cell_type": "code",
   "execution_count": 22,
   "metadata": {},
   "outputs": [
    {
     "name": "stdout",
     "output_type": "stream",
     "text": [
      "[['央视新闻', '24小时', 2022, 1, 11, '日本新冠肺炎疫情 应对奥密克戎 日本延长入境限制至2月底', ['为日本可以赢得一些应对疫情的时间'], '再来关注日本 日本首相安天文学翁在11号宣布 日本对大多数外国公民关闭边境的防御措施会延长到二月底 辞职就是为了遏制相关病毒 奥米克戎毒株的蔓延案件 维修说严格的入境限制措施实际上是有助于减缓奥秘克隆赌注的蔓延速度的速度的 为日本可以赢得一些应对疫情的时间 去年的11月30号 日本发现了第一例的奥秘 克斯顿猪感染病例 从那个时候开始的日本就决定了原则上停止外国人入境 但是日本公民及其配偶和有居留日本资格的外国人除外规定的期限当时暂定为一个月 但是去年的12月18号 岸田文雄表示了会把这个限制措施至少延长到今年年初 但是没有给 除截止的日期 现在的表示说有再次的延长 ', '365898b7-2fc1-4cb7-6db7-17930c4919b9', '1965', '117']]\n"
     ]
    }
   ],
   "source": [
    "### Test on searching for COVID-related news\n",
    "print(video_info_onepage('疫', 1, in_page=1))"
   ]
  },
  {
   "cell_type": "code",
   "execution_count": 8,
   "metadata": {},
   "outputs": [],
   "source": [
    "### Get all search results givin channel and date\n",
    "\n",
    "def video_info_allpage(keyword_zh, date, channelid, in_page=12, lite=False):\n",
    "    allpage_list = []\n",
    "    total_num = video_info_onepage(keyword_zh, date, channelid, 1, in_page, lite)[0]\n",
    "    page_num = int(math.ceil(total_num / 12))\n",
    "    \n",
    "    for pageid in range(1, page_num+1):\n",
    "        allpage_list += video_info_onepage(keyword_zh, date, channelid, pageid, in_page, lite)[1]\n",
    "    \n",
    "    return allpage_list\n",
    "    "
   ]
  },
  {
   "cell_type": "markdown",
   "metadata": {},
   "source": [
    "## Build dataframe given info_list"
   ]
  },
  {
   "cell_type": "code",
   "execution_count": 20,
   "metadata": {},
   "outputs": [],
   "source": [
    "### A function that directly collect information and store it into dataframe\n",
    "### Uses vinfo_list from make_list() as input\n",
    "\n",
    "def make_results(vinfo_list):\n",
    "    \n",
    "    video_df = pd.DataFrame(\n",
    "        columns=['channel', 'programme', 'year', 'month', 'day', 'title', 'tags', 'vtext', 'uuid', 'uid', 'pid']\n",
    "    )\n",
    "    \n",
    "    print(\"*** Making Dataframe ***\")\n",
    "    for video in tqdm(vinfo_list, desc=\"Making dataframe\"):\n",
    "    # for video in vinfo_list:\n",
    "        video_df.loc[len(video_df.index)] = video\n",
    "    \n",
    "    return video_df\n"
   ]
  },
  {
   "cell_type": "markdown",
   "metadata": {},
   "source": [
    "## Dates on outer loop, channels on inner loop"
   ]
  },
  {
   "cell_type": "code",
   "execution_count": 10,
   "metadata": {},
   "outputs": [
    {
     "name": "stdout",
     "output_type": "stream",
     "text": [
      "276\n"
     ]
    }
   ],
   "source": [
    "### Get list of all channels\n",
    "\n",
    "channel_dict = {}\n",
    "\n",
    "for i in range(1, 4):\n",
    "    channel_url = \"http://nav.tvmvdb.com/External/getChannelList?page=1&pageNum=999&channelType=\" + str(i)\n",
    "    channels = requests.get(url=channel_url, headers=headers).json()\n",
    "    \n",
    "    for ch in channels:\n",
    "        ch_dict = {\n",
    "            'name': ch['name'], \n",
    "            'uid': ch['uid'], \n",
    "            'type': ch['type'], \n",
    "            'total_num': ch['total_num']\n",
    "        }\n",
    "        channel_dict[ch['name']] = ch_dict\n",
    "\n",
    "print(len(channel_dict))"
   ]
  },
  {
   "cell_type": "code",
   "execution_count": 11,
   "metadata": {},
   "outputs": [
    {
     "data": {
      "text/html": [
       "<div>\n",
       "<style scoped>\n",
       "    .dataframe tbody tr th:only-of-type {\n",
       "        vertical-align: middle;\n",
       "    }\n",
       "\n",
       "    .dataframe tbody tr th {\n",
       "        vertical-align: top;\n",
       "    }\n",
       "\n",
       "    .dataframe thead th {\n",
       "        text-align: right;\n",
       "    }\n",
       "</style>\n",
       "<table border=\"1\" class=\"dataframe\">\n",
       "  <thead>\n",
       "    <tr style=\"text-align: right;\">\n",
       "      <th></th>\n",
       "      <th>uid</th>\n",
       "      <th>name</th>\n",
       "      <th>type</th>\n",
       "      <th>total_num</th>\n",
       "    </tr>\n",
       "  </thead>\n",
       "  <tbody>\n",
       "    <tr>\n",
       "      <td>0</td>\n",
       "      <td>117</td>\n",
       "      <td>央视新闻</td>\n",
       "      <td>1</td>\n",
       "      <td>1437501</td>\n",
       "    </tr>\n",
       "    <tr>\n",
       "      <td>1</td>\n",
       "      <td>32</td>\n",
       "      <td>央视综合</td>\n",
       "      <td>1</td>\n",
       "      <td>131725</td>\n",
       "    </tr>\n",
       "    <tr>\n",
       "      <td>2</td>\n",
       "      <td>44</td>\n",
       "      <td>央视国际</td>\n",
       "      <td>1</td>\n",
       "      <td>514085</td>\n",
       "    </tr>\n",
       "    <tr>\n",
       "      <td>3</td>\n",
       "      <td>225</td>\n",
       "      <td>CGTN</td>\n",
       "      <td>1</td>\n",
       "      <td>43225</td>\n",
       "    </tr>\n",
       "    <tr>\n",
       "      <td>4</td>\n",
       "      <td>24</td>\n",
       "      <td>央视财经</td>\n",
       "      <td>1</td>\n",
       "      <td>487857</td>\n",
       "    </tr>\n",
       "    <tr>\n",
       "      <td>...</td>\n",
       "      <td>...</td>\n",
       "      <td>...</td>\n",
       "      <td>...</td>\n",
       "      <td>...</td>\n",
       "    </tr>\n",
       "    <tr>\n",
       "      <td>192</td>\n",
       "      <td>277</td>\n",
       "      <td>武汉少儿</td>\n",
       "      <td>3</td>\n",
       "      <td>142</td>\n",
       "    </tr>\n",
       "    <tr>\n",
       "      <td>193</td>\n",
       "      <td>278</td>\n",
       "      <td>武汉电视剧</td>\n",
       "      <td>3</td>\n",
       "      <td>772</td>\n",
       "    </tr>\n",
       "    <tr>\n",
       "      <td>194</td>\n",
       "      <td>280</td>\n",
       "      <td>武汉科技生活</td>\n",
       "      <td>3</td>\n",
       "      <td>2000</td>\n",
       "    </tr>\n",
       "    <tr>\n",
       "      <td>195</td>\n",
       "      <td>279</td>\n",
       "      <td>武汉经济</td>\n",
       "      <td>3</td>\n",
       "      <td>6</td>\n",
       "    </tr>\n",
       "    <tr>\n",
       "      <td>196</td>\n",
       "      <td>62</td>\n",
       "      <td>无锡都市资讯频道</td>\n",
       "      <td>3</td>\n",
       "      <td>96734</td>\n",
       "    </tr>\n",
       "  </tbody>\n",
       "</table>\n",
       "<p>197 rows × 4 columns</p>\n",
       "</div>"
      ],
      "text/plain": [
       "     uid      name type  total_num\n",
       "0    117      央视新闻    1    1437501\n",
       "1     32      央视综合    1     131725\n",
       "2     44      央视国际    1     514085\n",
       "3    225      CGTN    1      43225\n",
       "4     24      央视财经    1     487857\n",
       "..   ...       ...  ...        ...\n",
       "192  277      武汉少儿    3        142\n",
       "193  278     武汉电视剧    3        772\n",
       "194  280    武汉科技生活    3       2000\n",
       "195  279      武汉经济    3          6\n",
       "196   62  无锡都市资讯频道    3      96734\n",
       "\n",
       "[197 rows x 4 columns]"
      ]
     },
     "execution_count": 11,
     "metadata": {},
     "output_type": "execute_result"
    }
   ],
   "source": [
    "### Channels with at least one video\n",
    "\n",
    "cnt = 0\n",
    "\n",
    "uid_list = []\n",
    "name_list = []\n",
    "type_list = []\n",
    "num_list = []\n",
    "\n",
    "for chkey in channel_dict:\n",
    "    ch = channel_dict[chkey]\n",
    "    if ch['total_num'] > 0:\n",
    "        cnt += 1\n",
    "        uid_list.append(ch['uid'])\n",
    "        name_list.append(ch['name'])\n",
    "        type_list.append(ch['type'])\n",
    "        num_list.append(ch['total_num'])\n",
    "        \n",
    "# print(cnt)\n",
    "data = {'uid': uid_list, 'name': name_list, 'type': type_list, 'total_num': num_list}\n",
    "channel_df = pd.DataFrame.from_dict(data)\n",
    "channel_df\n"
   ]
  },
  {
   "cell_type": "code",
   "execution_count": 12,
   "metadata": {},
   "outputs": [
    {
     "data": {
      "text/html": [
       "<div>\n",
       "<style scoped>\n",
       "    .dataframe tbody tr th:only-of-type {\n",
       "        vertical-align: middle;\n",
       "    }\n",
       "\n",
       "    .dataframe tbody tr th {\n",
       "        vertical-align: top;\n",
       "    }\n",
       "\n",
       "    .dataframe thead th {\n",
       "        text-align: right;\n",
       "    }\n",
       "</style>\n",
       "<table border=\"1\" class=\"dataframe\">\n",
       "  <thead>\n",
       "    <tr style=\"text-align: right;\">\n",
       "      <th></th>\n",
       "      <th>uid</th>\n",
       "      <th>name</th>\n",
       "      <th>type</th>\n",
       "      <th>total_num</th>\n",
       "    </tr>\n",
       "  </thead>\n",
       "  <tbody>\n",
       "    <tr>\n",
       "      <td>0</td>\n",
       "      <td>117</td>\n",
       "      <td>央视新闻</td>\n",
       "      <td>1</td>\n",
       "      <td>1437501</td>\n",
       "    </tr>\n",
       "    <tr>\n",
       "      <td>2</td>\n",
       "      <td>44</td>\n",
       "      <td>央视国际</td>\n",
       "      <td>1</td>\n",
       "      <td>514085</td>\n",
       "    </tr>\n",
       "    <tr>\n",
       "      <td>4</td>\n",
       "      <td>24</td>\n",
       "      <td>央视财经</td>\n",
       "      <td>1</td>\n",
       "      <td>487857</td>\n",
       "    </tr>\n",
       "    <tr>\n",
       "      <td>62</td>\n",
       "      <td>68</td>\n",
       "      <td>BTV新闻</td>\n",
       "      <td>2</td>\n",
       "      <td>384926</td>\n",
       "    </tr>\n",
       "    <tr>\n",
       "      <td>32</td>\n",
       "      <td>70</td>\n",
       "      <td>上海东方卫视</td>\n",
       "      <td>2</td>\n",
       "      <td>383345</td>\n",
       "    </tr>\n",
       "    <tr>\n",
       "      <td>39</td>\n",
       "      <td>35</td>\n",
       "      <td>上海新闻综合</td>\n",
       "      <td>2</td>\n",
       "      <td>368306</td>\n",
       "    </tr>\n",
       "    <tr>\n",
       "      <td>133</td>\n",
       "      <td>95</td>\n",
       "      <td>凤凰资讯</td>\n",
       "      <td>2</td>\n",
       "      <td>310930</td>\n",
       "    </tr>\n",
       "    <tr>\n",
       "      <td>106</td>\n",
       "      <td>30</td>\n",
       "      <td>江苏公共频道</td>\n",
       "      <td>2</td>\n",
       "      <td>288961</td>\n",
       "    </tr>\n",
       "    <tr>\n",
       "      <td>93</td>\n",
       "      <td>118</td>\n",
       "      <td>上海第一财经</td>\n",
       "      <td>2</td>\n",
       "      <td>216658</td>\n",
       "    </tr>\n",
       "    <tr>\n",
       "      <td>153</td>\n",
       "      <td>47</td>\n",
       "      <td>东南卫视</td>\n",
       "      <td>2</td>\n",
       "      <td>191410</td>\n",
       "    </tr>\n",
       "    <tr>\n",
       "      <td>10</td>\n",
       "      <td>53</td>\n",
       "      <td>央视体育</td>\n",
       "      <td>1</td>\n",
       "      <td>187685</td>\n",
       "    </tr>\n",
       "    <tr>\n",
       "      <td>36</td>\n",
       "      <td>61</td>\n",
       "      <td>BTV北京卫视</td>\n",
       "      <td>2</td>\n",
       "      <td>151453</td>\n",
       "    </tr>\n",
       "    <tr>\n",
       "      <td>1</td>\n",
       "      <td>32</td>\n",
       "      <td>央视综合</td>\n",
       "      <td>1</td>\n",
       "      <td>131725</td>\n",
       "    </tr>\n",
       "    <tr>\n",
       "      <td>47</td>\n",
       "      <td>36</td>\n",
       "      <td>吉林卫视</td>\n",
       "      <td>2</td>\n",
       "      <td>124969</td>\n",
       "    </tr>\n",
       "    <tr>\n",
       "      <td>28</td>\n",
       "      <td>54</td>\n",
       "      <td>辽宁卫视</td>\n",
       "      <td>2</td>\n",
       "      <td>124186</td>\n",
       "    </tr>\n",
       "    <tr>\n",
       "      <td>42</td>\n",
       "      <td>63</td>\n",
       "      <td>内蒙古卫视</td>\n",
       "      <td>2</td>\n",
       "      <td>116085</td>\n",
       "    </tr>\n",
       "    <tr>\n",
       "      <td>149</td>\n",
       "      <td>180</td>\n",
       "      <td>广东珠江</td>\n",
       "      <td>2</td>\n",
       "      <td>111091</td>\n",
       "    </tr>\n",
       "    <tr>\n",
       "      <td>98</td>\n",
       "      <td>129</td>\n",
       "      <td>湖南都市</td>\n",
       "      <td>2</td>\n",
       "      <td>110544</td>\n",
       "    </tr>\n",
       "    <tr>\n",
       "      <td>26</td>\n",
       "      <td>141</td>\n",
       "      <td>山西卫视</td>\n",
       "      <td>2</td>\n",
       "      <td>108016</td>\n",
       "    </tr>\n",
       "    <tr>\n",
       "      <td>27</td>\n",
       "      <td>112</td>\n",
       "      <td>新疆卫视</td>\n",
       "      <td>2</td>\n",
       "      <td>103865</td>\n",
       "    </tr>\n",
       "    <tr>\n",
       "      <td>30</td>\n",
       "      <td>39</td>\n",
       "      <td>安徽卫视</td>\n",
       "      <td>2</td>\n",
       "      <td>103235</td>\n",
       "    </tr>\n",
       "    <tr>\n",
       "      <td>113</td>\n",
       "      <td>56</td>\n",
       "      <td>江苏城市频道</td>\n",
       "      <td>2</td>\n",
       "      <td>103163</td>\n",
       "    </tr>\n",
       "    <tr>\n",
       "      <td>20</td>\n",
       "      <td>81</td>\n",
       "      <td>江西卫视</td>\n",
       "      <td>2</td>\n",
       "      <td>100096</td>\n",
       "    </tr>\n",
       "    <tr>\n",
       "      <td>24</td>\n",
       "      <td>135</td>\n",
       "      <td>青海卫视</td>\n",
       "      <td>2</td>\n",
       "      <td>99902</td>\n",
       "    </tr>\n",
       "    <tr>\n",
       "      <td>196</td>\n",
       "      <td>62</td>\n",
       "      <td>无锡都市资讯频道</td>\n",
       "      <td>3</td>\n",
       "      <td>96734</td>\n",
       "    </tr>\n",
       "    <tr>\n",
       "      <td>117</td>\n",
       "      <td>88</td>\n",
       "      <td>安徽公共</td>\n",
       "      <td>2</td>\n",
       "      <td>88447</td>\n",
       "    </tr>\n",
       "    <tr>\n",
       "      <td>177</td>\n",
       "      <td>152</td>\n",
       "      <td>无锡新闻频道</td>\n",
       "      <td>3</td>\n",
       "      <td>87274</td>\n",
       "    </tr>\n",
       "    <tr>\n",
       "      <td>46</td>\n",
       "      <td>93</td>\n",
       "      <td>贵州卫视</td>\n",
       "      <td>2</td>\n",
       "      <td>87156</td>\n",
       "    </tr>\n",
       "    <tr>\n",
       "      <td>140</td>\n",
       "      <td>158</td>\n",
       "      <td>广州台</td>\n",
       "      <td>2</td>\n",
       "      <td>84916</td>\n",
       "    </tr>\n",
       "    <tr>\n",
       "      <td>43</td>\n",
       "      <td>43</td>\n",
       "      <td>甘肃卫视</td>\n",
       "      <td>2</td>\n",
       "      <td>84067</td>\n",
       "    </tr>\n",
       "    <tr>\n",
       "      <td>102</td>\n",
       "      <td>96</td>\n",
       "      <td>广东新闻</td>\n",
       "      <td>2</td>\n",
       "      <td>83476</td>\n",
       "    </tr>\n",
       "    <tr>\n",
       "      <td>41</td>\n",
       "      <td>77</td>\n",
       "      <td>黄河新闻频道</td>\n",
       "      <td>2</td>\n",
       "      <td>82212</td>\n",
       "    </tr>\n",
       "    <tr>\n",
       "      <td>97</td>\n",
       "      <td>82</td>\n",
       "      <td>山西科教频道</td>\n",
       "      <td>2</td>\n",
       "      <td>81557</td>\n",
       "    </tr>\n",
       "    <tr>\n",
       "      <td>21</td>\n",
       "      <td>23</td>\n",
       "      <td>河北卫视</td>\n",
       "      <td>2</td>\n",
       "      <td>80807</td>\n",
       "    </tr>\n",
       "    <tr>\n",
       "      <td>183</td>\n",
       "      <td>89</td>\n",
       "      <td>厦门卫视</td>\n",
       "      <td>3</td>\n",
       "      <td>78543</td>\n",
       "    </tr>\n",
       "    <tr>\n",
       "      <td>136</td>\n",
       "      <td>110</td>\n",
       "      <td>河南卫视</td>\n",
       "      <td>2</td>\n",
       "      <td>78109</td>\n",
       "    </tr>\n",
       "    <tr>\n",
       "      <td>35</td>\n",
       "      <td>57</td>\n",
       "      <td>凤凰卫视</td>\n",
       "      <td>2</td>\n",
       "      <td>76136</td>\n",
       "    </tr>\n",
       "    <tr>\n",
       "      <td>107</td>\n",
       "      <td>31</td>\n",
       "      <td>BTV科教</td>\n",
       "      <td>2</td>\n",
       "      <td>73392</td>\n",
       "    </tr>\n",
       "    <tr>\n",
       "      <td>37</td>\n",
       "      <td>146</td>\n",
       "      <td>重庆卫视</td>\n",
       "      <td>2</td>\n",
       "      <td>70862</td>\n",
       "    </tr>\n",
       "    <tr>\n",
       "      <td>44</td>\n",
       "      <td>126</td>\n",
       "      <td>西藏卫视</td>\n",
       "      <td>2</td>\n",
       "      <td>68293</td>\n",
       "    </tr>\n",
       "    <tr>\n",
       "      <td>115</td>\n",
       "      <td>76</td>\n",
       "      <td>广东南方卫星</td>\n",
       "      <td>2</td>\n",
       "      <td>67754</td>\n",
       "    </tr>\n",
       "    <tr>\n",
       "      <td>95</td>\n",
       "      <td>124</td>\n",
       "      <td>山西经济</td>\n",
       "      <td>2</td>\n",
       "      <td>64272</td>\n",
       "    </tr>\n",
       "    <tr>\n",
       "      <td>25</td>\n",
       "      <td>123</td>\n",
       "      <td>陕西卫视</td>\n",
       "      <td>2</td>\n",
       "      <td>62902</td>\n",
       "    </tr>\n",
       "    <tr>\n",
       "      <td>100</td>\n",
       "      <td>78</td>\n",
       "      <td>安徽经济</td>\n",
       "      <td>2</td>\n",
       "      <td>62704</td>\n",
       "    </tr>\n",
       "    <tr>\n",
       "      <td>129</td>\n",
       "      <td>85</td>\n",
       "      <td>BTV文艺</td>\n",
       "      <td>2</td>\n",
       "      <td>62289</td>\n",
       "    </tr>\n",
       "    <tr>\n",
       "      <td>111</td>\n",
       "      <td>52</td>\n",
       "      <td>广东经济科教</td>\n",
       "      <td>2</td>\n",
       "      <td>61747</td>\n",
       "    </tr>\n",
       "    <tr>\n",
       "      <td>123</td>\n",
       "      <td>92</td>\n",
       "      <td>上海体育频道</td>\n",
       "      <td>2</td>\n",
       "      <td>58335</td>\n",
       "    </tr>\n",
       "    <tr>\n",
       "      <td>99</td>\n",
       "      <td>104</td>\n",
       "      <td>天津卫视</td>\n",
       "      <td>2</td>\n",
       "      <td>58245</td>\n",
       "    </tr>\n",
       "    <tr>\n",
       "      <td>171</td>\n",
       "      <td>27</td>\n",
       "      <td>广州新闻</td>\n",
       "      <td>3</td>\n",
       "      <td>57125</td>\n",
       "    </tr>\n",
       "    <tr>\n",
       "      <td>146</td>\n",
       "      <td>169</td>\n",
       "      <td>兵团卫视</td>\n",
       "      <td>2</td>\n",
       "      <td>56236</td>\n",
       "    </tr>\n",
       "  </tbody>\n",
       "</table>\n",
       "</div>"
      ],
      "text/plain": [
       "     uid      name type  total_num\n",
       "0    117      央视新闻    1    1437501\n",
       "2     44      央视国际    1     514085\n",
       "4     24      央视财经    1     487857\n",
       "62    68     BTV新闻    2     384926\n",
       "32    70    上海东方卫视    2     383345\n",
       "39    35    上海新闻综合    2     368306\n",
       "133   95      凤凰资讯    2     310930\n",
       "106   30    江苏公共频道    2     288961\n",
       "93   118    上海第一财经    2     216658\n",
       "153   47      东南卫视    2     191410\n",
       "10    53      央视体育    1     187685\n",
       "36    61   BTV北京卫视    2     151453\n",
       "1     32      央视综合    1     131725\n",
       "47    36      吉林卫视    2     124969\n",
       "28    54      辽宁卫视    2     124186\n",
       "42    63     内蒙古卫视    2     116085\n",
       "149  180      广东珠江    2     111091\n",
       "98   129      湖南都市    2     110544\n",
       "26   141      山西卫视    2     108016\n",
       "27   112      新疆卫视    2     103865\n",
       "30    39      安徽卫视    2     103235\n",
       "113   56    江苏城市频道    2     103163\n",
       "20    81      江西卫视    2     100096\n",
       "24   135      青海卫视    2      99902\n",
       "196   62  无锡都市资讯频道    3      96734\n",
       "117   88      安徽公共    2      88447\n",
       "177  152    无锡新闻频道    3      87274\n",
       "46    93      贵州卫视    2      87156\n",
       "140  158       广州台    2      84916\n",
       "43    43      甘肃卫视    2      84067\n",
       "102   96      广东新闻    2      83476\n",
       "41    77    黄河新闻频道    2      82212\n",
       "97    82    山西科教频道    2      81557\n",
       "21    23      河北卫视    2      80807\n",
       "183   89      厦门卫视    3      78543\n",
       "136  110      河南卫视    2      78109\n",
       "35    57      凤凰卫视    2      76136\n",
       "107   31     BTV科教    2      73392\n",
       "37   146      重庆卫视    2      70862\n",
       "44   126      西藏卫视    2      68293\n",
       "115   76    广东南方卫星    2      67754\n",
       "95   124      山西经济    2      64272\n",
       "25   123      陕西卫视    2      62902\n",
       "100   78      安徽经济    2      62704\n",
       "129   85     BTV文艺    2      62289\n",
       "111   52    广东经济科教    2      61747\n",
       "123   92    上海体育频道    2      58335\n",
       "99   104      天津卫视    2      58245\n",
       "171   27      广州新闻    3      57125\n",
       "146  169      兵团卫视    2      56236"
      ]
     },
     "execution_count": 12,
     "metadata": {},
     "output_type": "execute_result"
    }
   ],
   "source": [
    "channel_df.sort_values(by='total_num', ascending=False)[:50]"
   ]
  },
  {
   "cell_type": "code",
   "execution_count": 24,
   "metadata": {},
   "outputs": [
    {
     "data": {
      "text/plain": [
       "array([[<AxesSubplot:title={'center':'total_num'}>]], dtype=object)"
      ]
     },
     "execution_count": 24,
     "metadata": {},
     "output_type": "execute_result"
    },
    {
     "data": {
      "image/png": "[encoded data removed]",
      "text/plain": [
       "<Figure size 432x288 with 1 Axes>"
      ]
     },
     "metadata": {
      "needs_background": "light"
     },
     "output_type": "display_data"
    }
   ],
   "source": [
    "channel_df.hist(bins=100)"
   ]
  },
  {
   "cell_type": "code",
   "execution_count": 27,
   "metadata": {},
   "outputs": [
    {
     "data": {
      "text/html": [
       "<div>\n",
       "<style scoped>\n",
       "    .dataframe tbody tr th:only-of-type {\n",
       "        vertical-align: middle;\n",
       "    }\n",
       "\n",
       "    .dataframe tbody tr th {\n",
       "        vertical-align: top;\n",
       "    }\n",
       "\n",
       "    .dataframe thead th {\n",
       "        text-align: right;\n",
       "    }\n",
       "</style>\n",
       "<table border=\"1\" class=\"dataframe\">\n",
       "  <thead>\n",
       "    <tr style=\"text-align: right;\">\n",
       "      <th></th>\n",
       "      <th>total_num</th>\n",
       "    </tr>\n",
       "  </thead>\n",
       "  <tbody>\n",
       "    <tr>\n",
       "      <td>count</td>\n",
       "      <td>1.970000e+02</td>\n",
       "    </tr>\n",
       "    <tr>\n",
       "      <td>mean</td>\n",
       "      <td>5.104196e+04</td>\n",
       "    </tr>\n",
       "    <tr>\n",
       "      <td>std</td>\n",
       "      <td>1.269606e+05</td>\n",
       "    </tr>\n",
       "    <tr>\n",
       "      <td>min</td>\n",
       "      <td>1.000000e+00</td>\n",
       "    </tr>\n",
       "    <tr>\n",
       "      <td>25%</td>\n",
       "      <td>1.161000e+03</td>\n",
       "    </tr>\n",
       "    <tr>\n",
       "      <td>50%</td>\n",
       "      <td>1.222700e+04</td>\n",
       "    </tr>\n",
       "    <tr>\n",
       "      <td>75%</td>\n",
       "      <td>5.623600e+04</td>\n",
       "    </tr>\n",
       "    <tr>\n",
       "      <td>max</td>\n",
       "      <td>1.435976e+06</td>\n",
       "    </tr>\n",
       "  </tbody>\n",
       "</table>\n",
       "</div>"
      ],
      "text/plain": [
       "          total_num\n",
       "count  1.970000e+02\n",
       "mean   5.104196e+04\n",
       "std    1.269606e+05\n",
       "min    1.000000e+00\n",
       "25%    1.161000e+03\n",
       "50%    1.222700e+04\n",
       "75%    5.623600e+04\n",
       "max    1.435976e+06"
      ]
     },
     "execution_count": 27,
     "metadata": {},
     "output_type": "execute_result"
    }
   ],
   "source": [
    "channel_df.describe()"
   ]
  },
  {
   "cell_type": "code",
   "execution_count": 13,
   "metadata": {},
   "outputs": [],
   "source": [
    "### A function that prints all dates between given start and end dates, in 'yyyy-mm-dd' format\n",
    "### Reference: 健忘主义，\"https://blog.csdn.net/qq_35515661/article/details/89638054\"\n",
    "\n",
    "def days_between(begin_date, end_date):\n",
    "    date_list = []\n",
    "    begin_date = datetime.datetime.strptime(begin_date, \"%Y-%m-%d\")\n",
    "    end_date = datetime.datetime.strptime(end_date,\"%Y-%m-%d\")\n",
    "    \n",
    "    while begin_date <= end_date:\n",
    "        date_str = begin_date.strftime(\"%Y-%m-%d\")\n",
    "        date_list.append(date_str)\n",
    "        begin_date += datetime.timedelta(days=1)\n",
    "    \n",
    "    return date_list\n"
   ]
  },
  {
   "cell_type": "code",
   "execution_count": 14,
   "metadata": {},
   "outputs": [],
   "source": [
    "### ## Dates on outer loop, channels on inner loop\n",
    "\n",
    "def make_list(keyword, begin_date, end_date, cname_list, lite=False):\n",
    "    list_made = []\n",
    "    \n",
    "    for day in days_between(begin_date, end_date):\n",
    "        print('****** ' + day + ' ******')\n",
    "        for i in tqdm(range(len(cname_list))):\n",
    "            cname = cname_list[i]\n",
    "            cid = channel_dict[cname]['uid']\n",
    "            # print(str(i+1) + \". \" + cname)\n",
    "\n",
    "            list_made += video_info_allpage(keyword, day, cid, lite=lite)\n",
    "    \n",
    "    return list_made\n"
   ]
  },
  {
   "cell_type": "code",
   "execution_count": 16,
   "metadata": {},
   "outputs": [
    {
     "name": "stdout",
     "output_type": "stream",
     "text": [
      "['CGTN', '央视国防军事', '山东卫视', '云南卫视', '广东卫视', '浙江卫视', '海南卫视', 'BTV体育', '上海国际频道', '江苏城市频道', '上海都市频道', '广州台', '广西新闻', '三沙卫视', '无锡都市资讯频道']\n",
      "**********\n",
      "****** 2022-01-17 ******\n",
      "1. CGTN\n"
     ]
    },
    {
     "name": "stderr",
     "output_type": "stream",
     "text": [
      "Page progress: 0it [00:00, ?it/s]\n"
     ]
    },
    {
     "name": "stdout",
     "output_type": "stream",
     "text": [
      "2. 央视国防军事\n"
     ]
    },
    {
     "name": "stderr",
     "output_type": "stream",
     "text": [
      "Page progress: 100%|██████████| 1/1 [00:06<00:00,  6.96s/it]\n"
     ]
    },
    {
     "name": "stdout",
     "output_type": "stream",
     "text": [
      "3. 山东卫视\n"
     ]
    },
    {
     "name": "stderr",
     "output_type": "stream",
     "text": [
      "Page progress: 100%|██████████| 1/1 [00:10<00:00, 10.01s/it]\n"
     ]
    },
    {
     "name": "stdout",
     "output_type": "stream",
     "text": [
      "4. 云南卫视\n"
     ]
    },
    {
     "name": "stderr",
     "output_type": "stream",
     "text": [
      "Page progress: 100%|██████████| 1/1 [00:04<00:00,  4.81s/it]\n"
     ]
    },
    {
     "name": "stdout",
     "output_type": "stream",
     "text": [
      "5. 广东卫视\n"
     ]
    },
    {
     "name": "stderr",
     "output_type": "stream",
     "text": [
      "Page progress: 100%|██████████| 2/2 [00:37<00:00, 18.72s/it]\n"
     ]
    },
    {
     "name": "stdout",
     "output_type": "stream",
     "text": [
      "6. 浙江卫视\n"
     ]
    },
    {
     "name": "stderr",
     "output_type": "stream",
     "text": [
      "Page progress: 100%|██████████| 1/1 [00:10<00:00, 10.34s/it]\n"
     ]
    },
    {
     "name": "stdout",
     "output_type": "stream",
     "text": [
      "7. 海南卫视\n"
     ]
    },
    {
     "name": "stderr",
     "output_type": "stream",
     "text": [
      "Page progress: 100%|██████████| 1/1 [00:03<00:00,  3.35s/it]\n"
     ]
    },
    {
     "name": "stdout",
     "output_type": "stream",
     "text": [
      "8. BTV体育\n"
     ]
    },
    {
     "name": "stderr",
     "output_type": "stream",
     "text": [
      "Page progress: 0it [00:00, ?it/s]\n"
     ]
    },
    {
     "name": "stdout",
     "output_type": "stream",
     "text": [
      "9. 上海国际频道\n"
     ]
    },
    {
     "name": "stderr",
     "output_type": "stream",
     "text": [
      "Page progress: 0it [00:00, ?it/s]\n"
     ]
    },
    {
     "name": "stdout",
     "output_type": "stream",
     "text": [
      "10. 江苏城市频道\n"
     ]
    },
    {
     "name": "stderr",
     "output_type": "stream",
     "text": [
      "Page progress: 0it [00:00, ?it/s]\n"
     ]
    },
    {
     "name": "stdout",
     "output_type": "stream",
     "text": [
      "11. 上海都市频道\n"
     ]
    },
    {
     "name": "stderr",
     "output_type": "stream",
     "text": [
      "Page progress: 0it [00:00, ?it/s]\n"
     ]
    },
    {
     "name": "stdout",
     "output_type": "stream",
     "text": [
      "12. 广州台\n"
     ]
    },
    {
     "name": "stderr",
     "output_type": "stream",
     "text": [
      "Page progress: 0it [00:00, ?it/s]\n"
     ]
    },
    {
     "name": "stdout",
     "output_type": "stream",
     "text": [
      "13. 广西新闻\n"
     ]
    },
    {
     "name": "stderr",
     "output_type": "stream",
     "text": [
      "Page progress: 0it [00:00, ?it/s]\n"
     ]
    },
    {
     "name": "stdout",
     "output_type": "stream",
     "text": [
      "14. 三沙卫视\n"
     ]
    },
    {
     "name": "stderr",
     "output_type": "stream",
     "text": [
      "Page progress: 100%|██████████| 1/1 [00:08<00:00,  8.55s/it]\n"
     ]
    },
    {
     "name": "stdout",
     "output_type": "stream",
     "text": [
      "15. 无锡都市资讯频道\n"
     ]
    },
    {
     "name": "stderr",
     "output_type": "stream",
     "text": [
      "Page progress: 0it [00:00, ?it/s]\n"
     ]
    },
    {
     "name": "stdout",
     "output_type": "stream",
     "text": [
      "****** 2022-01-18 ******\n",
      "1. CGTN\n"
     ]
    },
    {
     "name": "stderr",
     "output_type": "stream",
     "text": [
      "Page progress: 0it [00:00, ?it/s]\n"
     ]
    },
    {
     "name": "stdout",
     "output_type": "stream",
     "text": [
      "2. 央视国防军事\n"
     ]
    },
    {
     "name": "stderr",
     "output_type": "stream",
     "text": [
      "Page progress: 100%|██████████| 1/1 [00:03<00:00,  3.41s/it]\n"
     ]
    },
    {
     "name": "stdout",
     "output_type": "stream",
     "text": [
      "3. 山东卫视\n"
     ]
    },
    {
     "name": "stderr",
     "output_type": "stream",
     "text": [
      "Page progress: 100%|██████████| 1/1 [00:11<00:00, 11.94s/it]\n"
     ]
    },
    {
     "name": "stdout",
     "output_type": "stream",
     "text": [
      "4. 云南卫视\n"
     ]
    },
    {
     "name": "stderr",
     "output_type": "stream",
     "text": [
      "Page progress: 100%|██████████| 1/1 [00:03<00:00,  3.63s/it]\n"
     ]
    },
    {
     "name": "stdout",
     "output_type": "stream",
     "text": [
      "5. 广东卫视\n"
     ]
    },
    {
     "name": "stderr",
     "output_type": "stream",
     "text": [
      "Page progress: 100%|██████████| 1/1 [00:30<00:00, 30.21s/it]\n"
     ]
    },
    {
     "name": "stdout",
     "output_type": "stream",
     "text": [
      "6. 浙江卫视\n"
     ]
    },
    {
     "name": "stderr",
     "output_type": "stream",
     "text": [
      "Page progress: 100%|██████████| 1/1 [00:07<00:00,  7.88s/it]\n"
     ]
    },
    {
     "name": "stdout",
     "output_type": "stream",
     "text": [
      "7. 海南卫视\n"
     ]
    },
    {
     "name": "stderr",
     "output_type": "stream",
     "text": [
      "Page progress: 100%|██████████| 1/1 [00:04<00:00,  4.50s/it]\n"
     ]
    },
    {
     "name": "stdout",
     "output_type": "stream",
     "text": [
      "8. BTV体育\n"
     ]
    },
    {
     "name": "stderr",
     "output_type": "stream",
     "text": [
      "Page progress: 0it [00:00, ?it/s]\n"
     ]
    },
    {
     "name": "stdout",
     "output_type": "stream",
     "text": [
      "9. 上海国际频道\n"
     ]
    },
    {
     "name": "stderr",
     "output_type": "stream",
     "text": [
      "Page progress: 0it [00:00, ?it/s]\n"
     ]
    },
    {
     "name": "stdout",
     "output_type": "stream",
     "text": [
      "10. 江苏城市频道\n"
     ]
    },
    {
     "name": "stderr",
     "output_type": "stream",
     "text": [
      "Page progress: 0it [00:00, ?it/s]\n"
     ]
    },
    {
     "name": "stdout",
     "output_type": "stream",
     "text": [
      "11. 上海都市频道\n"
     ]
    },
    {
     "name": "stderr",
     "output_type": "stream",
     "text": [
      "Page progress: 0it [00:00, ?it/s]\n"
     ]
    },
    {
     "name": "stdout",
     "output_type": "stream",
     "text": [
      "12. 广州台\n"
     ]
    },
    {
     "name": "stderr",
     "output_type": "stream",
     "text": [
      "Page progress: 0it [00:00, ?it/s]\n"
     ]
    },
    {
     "name": "stdout",
     "output_type": "stream",
     "text": [
      "13. 广西新闻\n"
     ]
    },
    {
     "name": "stderr",
     "output_type": "stream",
     "text": [
      "Page progress: 0it [00:00, ?it/s]\n"
     ]
    },
    {
     "name": "stdout",
     "output_type": "stream",
     "text": [
      "14. 三沙卫视\n"
     ]
    },
    {
     "name": "stderr",
     "output_type": "stream",
     "text": [
      "Page progress: 0it [00:00, ?it/s]\n"
     ]
    },
    {
     "name": "stdout",
     "output_type": "stream",
     "text": [
      "15. 无锡都市资讯频道\n"
     ]
    },
    {
     "name": "stderr",
     "output_type": "stream",
     "text": [
      "Page progress: 0it [00:00, ?it/s]\n"
     ]
    },
    {
     "name": "stdout",
     "output_type": "stream",
     "text": [
      "****** 2022-01-19 ******\n",
      "1. CGTN\n"
     ]
    },
    {
     "name": "stderr",
     "output_type": "stream",
     "text": [
      "Page progress: 0it [00:00, ?it/s]\n"
     ]
    },
    {
     "name": "stdout",
     "output_type": "stream",
     "text": [
      "2. 央视国防军事\n"
     ]
    },
    {
     "name": "stderr",
     "output_type": "stream",
     "text": [
      "Page progress: 0it [00:00, ?it/s]\n"
     ]
    },
    {
     "name": "stdout",
     "output_type": "stream",
     "text": [
      "3. 山东卫视\n"
     ]
    },
    {
     "name": "stderr",
     "output_type": "stream",
     "text": [
      "Page progress: 100%|██████████| 1/1 [00:05<00:00,  5.00s/it]\n"
     ]
    },
    {
     "name": "stdout",
     "output_type": "stream",
     "text": [
      "4. 云南卫视\n"
     ]
    },
    {
     "name": "stderr",
     "output_type": "stream",
     "text": [
      "Page progress: 0it [00:00, ?it/s]\n"
     ]
    },
    {
     "name": "stdout",
     "output_type": "stream",
     "text": [
      "5. 广东卫视\n"
     ]
    },
    {
     "name": "stderr",
     "output_type": "stream",
     "text": [
      "Page progress: 100%|██████████| 1/1 [00:06<00:00,  6.15s/it]\n"
     ]
    },
    {
     "name": "stdout",
     "output_type": "stream",
     "text": [
      "6. 浙江卫视\n"
     ]
    },
    {
     "name": "stderr",
     "output_type": "stream",
     "text": [
      "Page progress: 100%|██████████| 1/1 [00:03<00:00,  3.48s/it]\n"
     ]
    },
    {
     "name": "stdout",
     "output_type": "stream",
     "text": [
      "7. 海南卫视\n"
     ]
    },
    {
     "name": "stderr",
     "output_type": "stream",
     "text": [
      "Page progress: 0it [00:00, ?it/s]\n"
     ]
    },
    {
     "name": "stdout",
     "output_type": "stream",
     "text": [
      "8. BTV体育\n"
     ]
    },
    {
     "name": "stderr",
     "output_type": "stream",
     "text": [
      "Page progress: 0it [00:00, ?it/s]\n"
     ]
    },
    {
     "name": "stdout",
     "output_type": "stream",
     "text": [
      "9. 上海国际频道\n"
     ]
    },
    {
     "name": "stderr",
     "output_type": "stream",
     "text": [
      "Page progress: 0it [00:00, ?it/s]\n"
     ]
    },
    {
     "name": "stdout",
     "output_type": "stream",
     "text": [
      "10. 江苏城市频道\n"
     ]
    },
    {
     "name": "stderr",
     "output_type": "stream",
     "text": [
      "Page progress: 0it [00:00, ?it/s]\n"
     ]
    },
    {
     "name": "stdout",
     "output_type": "stream",
     "text": [
      "11. 上海都市频道\n"
     ]
    },
    {
     "name": "stderr",
     "output_type": "stream",
     "text": [
      "Page progress: 0it [00:00, ?it/s]\n"
     ]
    },
    {
     "name": "stdout",
     "output_type": "stream",
     "text": [
      "12. 广州台\n"
     ]
    },
    {
     "name": "stderr",
     "output_type": "stream",
     "text": [
      "Page progress: 0it [00:00, ?it/s]\n"
     ]
    },
    {
     "name": "stdout",
     "output_type": "stream",
     "text": [
      "13. 广西新闻\n"
     ]
    },
    {
     "name": "stderr",
     "output_type": "stream",
     "text": [
      "Page progress: 0it [00:00, ?it/s]\n"
     ]
    },
    {
     "name": "stdout",
     "output_type": "stream",
     "text": [
      "14. 三沙卫视\n"
     ]
    },
    {
     "name": "stderr",
     "output_type": "stream",
     "text": [
      "Page progress: 100%|██████████| 1/1 [00:10<00:00, 10.69s/it]\n"
     ]
    },
    {
     "name": "stdout",
     "output_type": "stream",
     "text": [
      "15. 无锡都市资讯频道\n"
     ]
    },
    {
     "name": "stderr",
     "output_type": "stream",
     "text": [
      "Page progress: 0it [00:00, ?it/s]\n"
     ]
    },
    {
     "name": "stdout",
     "output_type": "stream",
     "text": [
      "*** Making Dataframe ***\n"
     ]
    },
    {
     "name": "stderr",
     "output_type": "stream",
     "text": [
      "Making dataframe: 100%|██████████| 90/90 [00:00<00:00, 169.91it/s]\n"
     ]
    },
    {
     "data": {
      "text/html": [
       "<div>\n",
       "<style scoped>\n",
       "    .dataframe tbody tr th:only-of-type {\n",
       "        vertical-align: middle;\n",
       "    }\n",
       "\n",
       "    .dataframe tbody tr th {\n",
       "        vertical-align: top;\n",
       "    }\n",
       "\n",
       "    .dataframe thead th {\n",
       "        text-align: right;\n",
       "    }\n",
       "</style>\n",
       "<table border=\"1\" class=\"dataframe\">\n",
       "  <thead>\n",
       "    <tr style=\"text-align: right;\">\n",
       "      <th></th>\n",
       "      <th>channel</th>\n",
       "      <th>programme</th>\n",
       "      <th>year</th>\n",
       "      <th>month</th>\n",
       "      <th>day</th>\n",
       "      <th>title</th>\n",
       "      <th>tags</th>\n",
       "      <th>vtext</th>\n",
       "      <th>uuid</th>\n",
       "      <th>uid</th>\n",
       "      <th>pid</th>\n",
       "    </tr>\n",
       "  </thead>\n",
       "  <tbody>\n",
       "    <tr>\n",
       "      <td>0</td>\n",
       "      <td>央视国防军事</td>\n",
       "      <td>军事报道</td>\n",
       "      <td>2022</td>\n",
       "      <td>1</td>\n",
       "      <td>17</td>\n",
       "      <td>天津警备区紧急筹措物资支援抗疫一线</td>\n",
       "      <td>天津市疫情防控形势严峻</td>\n",
       "      <td>连日来 天津市疫情防控形势严峻 天津警备区紧急筹措防寒医疗生活等防疫物资十元疫情防控一线 累...</td>\n",
       "      <td>3e2d69ee-f70b-8cdc-9cf7-3eb2be88b6e7</td>\n",
       "      <td>268</td>\n",
       "      <td>18551</td>\n",
       "    </tr>\n",
       "    <tr>\n",
       "      <td>1</td>\n",
       "      <td>央视国防军事</td>\n",
       "      <td>军事报道</td>\n",
       "      <td>2022</td>\n",
       "      <td>1</td>\n",
       "      <td>17</td>\n",
       "      <td>春运首日 武警官兵守护旅客回家路</td>\n",
       "      <td>加之疫情精准防控的要求</td>\n",
       "      <td>2012年春运 今天起正式拉开大幕 据与交通部门预计 今年的春运从今天起至2月25号结束 共...</td>\n",
       "      <td>85ef047a-9f70-af33-b3a4-f960f768d2ac</td>\n",
       "      <td>268</td>\n",
       "      <td>18551</td>\n",
       "    </tr>\n",
       "    <tr>\n",
       "      <td>2</td>\n",
       "      <td>央视国防军事</td>\n",
       "      <td>国防军事早报</td>\n",
       "      <td>2022</td>\n",
       "      <td>1</td>\n",
       "      <td>17</td>\n",
       "      <td>天津 2000余名民兵投入疫情防控</td>\n",
       "      <td>投入疫情防控中心在协助展开核酸检测</td>\n",
       "      <td>近日 天津市多个区域发现新官肺炎确诊病例 天津警备区出动2000名民兵 投入疫情防控中心在协...</td>\n",
       "      <td>e2c15d80-3343-2c68-acb8-c8039e7878c3</td>\n",
       "      <td>268</td>\n",
       "      <td>19111</td>\n",
       "    </tr>\n",
       "    <tr>\n",
       "      <td>3</td>\n",
       "      <td>央视国防军事</td>\n",
       "      <td>国防军事早报</td>\n",
       "      <td>2022</td>\n",
       "      <td>1</td>\n",
       "      <td>17</td>\n",
       "      <td>中国援柬军医专家组获柬埔寨“和平骑士勋章”</td>\n",
       "      <td>第16批专家组抵减后多次深入基层和疫情</td>\n",
       "      <td>1月14号柬埔寨副首相兼国防大臣迪班为中国人民解放军第16批援柬医疗专家组授勋表彰专家组在协...</td>\n",
       "      <td>8bfa0dba-bc90-2f5e-fdbe-1da07e56d731</td>\n",
       "      <td>268</td>\n",
       "      <td>19111</td>\n",
       "    </tr>\n",
       "    <tr>\n",
       "      <td>4</td>\n",
       "      <td>山东卫视</td>\n",
       "      <td>早安山东</td>\n",
       "      <td>2022</td>\n",
       "      <td>1</td>\n",
       "      <td>17</td>\n",
       "      <td>山东预计发送旅客2850万人次</td>\n",
       "      <td>游戏做好春运疫情防控和服务保障工作</td>\n",
       "      <td>今年春运 山东预计发送旅客2850万人次 春运期间 全省道路运输将投放省市际线路班车车970...</td>\n",
       "      <td>ddc4549c-b149-aa06-5e86-bea4a89c9f27</td>\n",
       "      <td>50</td>\n",
       "      <td>1744</td>\n",
       "    </tr>\n",
       "    <tr>\n",
       "      <td>...</td>\n",
       "      <td>...</td>\n",
       "      <td>...</td>\n",
       "      <td>...</td>\n",
       "      <td>...</td>\n",
       "      <td>...</td>\n",
       "      <td>...</td>\n",
       "      <td>...</td>\n",
       "      <td>...</td>\n",
       "      <td>...</td>\n",
       "      <td>...</td>\n",
       "      <td>...</td>\n",
       "    </tr>\n",
       "    <tr>\n",
       "      <td>85</td>\n",
       "      <td>浙江卫视</td>\n",
       "      <td>正午播报</td>\n",
       "      <td>2022</td>\n",
       "      <td>1</td>\n",
       "      <td>19</td>\n",
       "      <td>正午关注 疫情防控 省内多地开展周期性巡检 严把疫情防控关口</td>\n",
       "      <td>舟山定海执法人员发现某水果店未能出示有效入境货物检验检疫证明</td>\n",
       "      <td>近日 我省多地监管部门对沿街商铺销售单位进行周期巡检 舟山定海执法人员发现某水果店未能出示有...</td>\n",
       "      <td>a4e93fd1-ef7c-7f8e-2b6c-a54a59ca7613</td>\n",
       "      <td>51</td>\n",
       "      <td>702</td>\n",
       "    </tr>\n",
       "    <tr>\n",
       "      <td>86</td>\n",
       "      <td>浙江卫视</td>\n",
       "      <td>正午播报</td>\n",
       "      <td>2022</td>\n",
       "      <td>1</td>\n",
       "      <td>19</td>\n",
       "      <td>正午关注 新型冠状病毒肺炎疫情最新情况</td>\n",
       "      <td></td>\n",
       "      <td>1月18日0到24时 浙江新增无症状感染者九例 均为境外输入排查密切接触者均已实施集中隔离 ...</td>\n",
       "      <td>38ad3720-3703-4e3a-2671-ca0c15165d06</td>\n",
       "      <td>51</td>\n",
       "      <td>702</td>\n",
       "    </tr>\n",
       "    <tr>\n",
       "      <td>87</td>\n",
       "      <td>三沙卫视</td>\n",
       "      <td>三沙新闻</td>\n",
       "      <td>2022</td>\n",
       "      <td>1</td>\n",
       "      <td>19</td>\n",
       "      <td>袁光平调研安全生产和疫情防控工作</td>\n",
       "      <td></td>\n",
       "      <td>昨天，三沙市委书记袁光平赴文昌清澜港三沙交通补给码头调研安全生产和疫情防控等工作，强调要深入...</td>\n",
       "      <td>9ae73b06-f460-1249-ef0f-148a2dae7744</td>\n",
       "      <td>204</td>\n",
       "      <td>1920</td>\n",
       "    </tr>\n",
       "    <tr>\n",
       "      <td>88</td>\n",
       "      <td>三沙卫视</td>\n",
       "      <td>南海直播室</td>\n",
       "      <td>2022</td>\n",
       "      <td>1</td>\n",
       "      <td>19</td>\n",
       "      <td>国务院联防联控机制医疗救治组印发《新冠病毒核酸20合1混采检测技术规范》</td>\n",
       "      <td>对疫情防控</td>\n",
       "      <td>据国家卫健委发布消息 为进一步做好相关病毒核酸检测 对疫情防控 争取宝贵时间 在目前五盒10...</td>\n",
       "      <td>196e8b20-6f06-bb80-01d3-a30b17bf4aa9</td>\n",
       "      <td>204</td>\n",
       "      <td>1963</td>\n",
       "    </tr>\n",
       "    <tr>\n",
       "      <td>89</td>\n",
       "      <td>三沙卫视</td>\n",
       "      <td>南海直播室</td>\n",
       "      <td>2022</td>\n",
       "      <td>1</td>\n",
       "      <td>19</td>\n",
       "      <td>中国与摩洛哥政府签署共建“一带一路”合作规划</td>\n",
       "      <td>还是世界上第一批音中国国药集团提供疫苗</td>\n",
       "      <td>2022年一月 中国与摩洛哥两国政府签署了中华人民共和国政府与摩洛哥王国政府关于共同推进一带...</td>\n",
       "      <td>1d519d76-27fe-b6b6-bf7b-482fac7cb038</td>\n",
       "      <td>204</td>\n",
       "      <td>1963</td>\n",
       "    </tr>\n",
       "  </tbody>\n",
       "</table>\n",
       "<p>90 rows × 11 columns</p>\n",
       "</div>"
      ],
      "text/plain": [
       "   channel programme  year month day                                 title  \\\n",
       "0   央视国防军事      军事报道  2022     1  17                     天津警备区紧急筹措物资支援抗疫一线   \n",
       "1   央视国防军事      军事报道  2022     1  17                      春运首日 武警官兵守护旅客回家路   \n",
       "2   央视国防军事    国防军事早报  2022     1  17                     天津 2000余名民兵投入疫情防控   \n",
       "3   央视国防军事    国防军事早报  2022     1  17                 中国援柬军医专家组获柬埔寨“和平骑士勋章”   \n",
       "4     山东卫视      早安山东  2022     1  17                       山东预计发送旅客2850万人次   \n",
       "..     ...       ...   ...   ...  ..                                   ...   \n",
       "85    浙江卫视      正午播报  2022     1  19        正午关注 疫情防控 省内多地开展周期性巡检 严把疫情防控关口   \n",
       "86    浙江卫视      正午播报  2022     1  19                   正午关注 新型冠状病毒肺炎疫情最新情况   \n",
       "87    三沙卫视      三沙新闻  2022     1  19                      袁光平调研安全生产和疫情防控工作   \n",
       "88    三沙卫视     南海直播室  2022     1  19  国务院联防联控机制医疗救治组印发《新冠病毒核酸20合1混采检测技术规范》   \n",
       "89    三沙卫视     南海直播室  2022     1  19                中国与摩洛哥政府签署共建“一带一路”合作规划   \n",
       "\n",
       "                              tags  \\\n",
       "0                      天津市疫情防控形势严峻   \n",
       "1                      加之疫情精准防控的要求   \n",
       "2                投入疫情防控中心在协助展开核酸检测   \n",
       "3              第16批专家组抵减后多次深入基层和疫情   \n",
       "4                游戏做好春运疫情防控和服务保障工作   \n",
       "..                             ...   \n",
       "85  舟山定海执法人员发现某水果店未能出示有效入境货物检验检疫证明   \n",
       "86                                   \n",
       "87                                   \n",
       "88                           对疫情防控   \n",
       "89             还是世界上第一批音中国国药集团提供疫苗   \n",
       "\n",
       "                                                vtext  \\\n",
       "0   连日来 天津市疫情防控形势严峻 天津警备区紧急筹措防寒医疗生活等防疫物资十元疫情防控一线 累...   \n",
       "1   2012年春运 今天起正式拉开大幕 据与交通部门预计 今年的春运从今天起至2月25号结束 共...   \n",
       "2   近日 天津市多个区域发现新官肺炎确诊病例 天津警备区出动2000名民兵 投入疫情防控中心在协...   \n",
       "3   1月14号柬埔寨副首相兼国防大臣迪班为中国人民解放军第16批援柬医疗专家组授勋表彰专家组在协...   \n",
       "4   今年春运 山东预计发送旅客2850万人次 春运期间 全省道路运输将投放省市际线路班车车970...   \n",
       "..                                                ...   \n",
       "85  近日 我省多地监管部门对沿街商铺销售单位进行周期巡检 舟山定海执法人员发现某水果店未能出示有...   \n",
       "86  1月18日0到24时 浙江新增无症状感染者九例 均为境外输入排查密切接触者均已实施集中隔离 ...   \n",
       "87  昨天，三沙市委书记袁光平赴文昌清澜港三沙交通补给码头调研安全生产和疫情防控等工作，强调要深入...   \n",
       "88  据国家卫健委发布消息 为进一步做好相关病毒核酸检测 对疫情防控 争取宝贵时间 在目前五盒10...   \n",
       "89  2022年一月 中国与摩洛哥两国政府签署了中华人民共和国政府与摩洛哥王国政府关于共同推进一带...   \n",
       "\n",
       "                                    uuid  uid    pid  \n",
       "0   3e2d69ee-f70b-8cdc-9cf7-3eb2be88b6e7  268  18551  \n",
       "1   85ef047a-9f70-af33-b3a4-f960f768d2ac  268  18551  \n",
       "2   e2c15d80-3343-2c68-acb8-c8039e7878c3  268  19111  \n",
       "3   8bfa0dba-bc90-2f5e-fdbe-1da07e56d731  268  19111  \n",
       "4   ddc4549c-b149-aa06-5e86-bea4a89c9f27   50   1744  \n",
       "..                                   ...  ...    ...  \n",
       "85  a4e93fd1-ef7c-7f8e-2b6c-a54a59ca7613   51    702  \n",
       "86  38ad3720-3703-4e3a-2671-ca0c15165d06   51    702  \n",
       "87  9ae73b06-f460-1249-ef0f-148a2dae7744  204   1920  \n",
       "88  196e8b20-6f06-bb80-01d3-a30b17bf4aa9  204   1963  \n",
       "89  1d519d76-27fe-b6b6-bf7b-482fac7cb038  204   1963  \n",
       "\n",
       "[90 rows x 11 columns]"
      ]
     },
     "execution_count": 16,
     "metadata": {},
     "output_type": "execute_result"
    }
   ],
   "source": [
    "### Test run\n",
    "\n",
    "cname_list = list(filter(lambda x: 40000 <= channel_dict[x]['total_num'] <= 50000, channel_dict))\n",
    "print(cname_list)\n",
    "print(\"*\"*10)\n",
    "\n",
    "test_out = make_results(make_list('疫', '2022-01-17', '2022-01-19', cname_list))\n",
    "test_out"
   ]
  },
  {
   "cell_type": "code",
   "execution_count": 51,
   "metadata": {},
   "outputs": [],
   "source": [
    "test_out.to_csv(\"test_out.csv\")"
   ]
  },
  {
   "cell_type": "code",
   "execution_count": 28,
   "metadata": {},
   "outputs": [
    {
     "name": "stdout",
     "output_type": "stream",
     "text": [
      "****** 2021-08-01 ******\n",
      "1. 央视新闻\n"
     ]
    },
    {
     "name": "stderr",
     "output_type": "stream",
     "text": [
      "Page progress: 100%|██████████| 8/8 [01:23<00:00, 10.39s/it]\n"
     ]
    },
    {
     "name": "stdout",
     "output_type": "stream",
     "text": [
      "*** Making Dataframe ***\n"
     ]
    },
    {
     "name": "stderr",
     "output_type": "stream",
     "text": [
      "Making dataframe: 100%|██████████| 95/95 [00:00<00:00, 164.88it/s]\n"
     ]
    },
    {
     "data": {
      "text/html": [
       "<div>\n",
       "<style scoped>\n",
       "    .dataframe tbody tr th:only-of-type {\n",
       "        vertical-align: middle;\n",
       "    }\n",
       "\n",
       "    .dataframe tbody tr th {\n",
       "        vertical-align: top;\n",
       "    }\n",
       "\n",
       "    .dataframe thead th {\n",
       "        text-align: right;\n",
       "    }\n",
       "</style>\n",
       "<table border=\"1\" class=\"dataframe\">\n",
       "  <thead>\n",
       "    <tr style=\"text-align: right;\">\n",
       "      <th></th>\n",
       "      <th>channel</th>\n",
       "      <th>programme</th>\n",
       "      <th>year</th>\n",
       "      <th>month</th>\n",
       "      <th>day</th>\n",
       "      <th>title</th>\n",
       "      <th>tags</th>\n",
       "      <th>vtext</th>\n",
       "      <th>uuid</th>\n",
       "      <th>uid</th>\n",
       "      <th>pid</th>\n",
       "    </tr>\n",
       "  </thead>\n",
       "  <tbody>\n",
       "    <tr>\n",
       "      <td>0</td>\n",
       "      <td>央视新闻</td>\n",
       "      <td>24小时</td>\n",
       "      <td>2021</td>\n",
       "      <td>8</td>\n",
       "      <td>1</td>\n",
       "      <td>疫情传播链仍在延长 各地紧急加强防控·北京 北京昌平第二轮核酸排查 结果均为阴性</td>\n",
       "      <td>为及时控制疫情赢得了时间</td>\n",
       "      <td></td>\n",
       "      <td>d7034f5c-4b9c-d426-4b9d-1f3db36f4cbf</td>\n",
       "      <td>117</td>\n",
       "      <td>1965</td>\n",
       "    </tr>\n",
       "    <tr>\n",
       "      <td>1</td>\n",
       "      <td>央视新闻</td>\n",
       "      <td>24小时</td>\n",
       "      <td>2021</td>\n",
       "      <td>8</td>\n",
       "      <td>1</td>\n",
       "      <td>疫情传播链仍在延长 各地紧急加强防控·江苏 南京三轮全员核酸检测 累计报告204例</td>\n",
       "      <td>南京在疫情防控发布会上介绍去20号至今的南京全市全是已经进行的三轮核酸检测</td>\n",
       "      <td></td>\n",
       "      <td>151e60dc-02eb-d757-3bf6-7eca57f0a021</td>\n",
       "      <td>117</td>\n",
       "      <td>1965</td>\n",
       "    </tr>\n",
       "    <tr>\n",
       "      <td>2</td>\n",
       "      <td>央视新闻</td>\n",
       "      <td>24小时</td>\n",
       "      <td>2021</td>\n",
       "      <td>8</td>\n",
       "      <td>1</td>\n",
       "      <td>疫情传播链仍在延长 各地紧急加强防控·江苏南京 今起开始补检 移动核酸检测车开进小区</td>\n",
       "      <td>根据当前疫情发展的情况</td>\n",
       "      <td></td>\n",
       "      <td>6962e80f-7023-8750-a10a-f52eae3e77e1</td>\n",
       "      <td>117</td>\n",
       "      <td>1965</td>\n",
       "    </tr>\n",
       "    <tr>\n",
       "      <td>3</td>\n",
       "      <td>央视新闻</td>\n",
       "      <td>24小时</td>\n",
       "      <td>2021</td>\n",
       "      <td>8</td>\n",
       "      <td>1</td>\n",
       "      <td>聚焦奥运 东京奥运会第9个比赛日·男子100米决赛 苏炳添：超越自我 全力奔跑</td>\n",
       "      <td>此后相关疫情突然暴发</td>\n",
       "      <td></td>\n",
       "      <td>1dfdd89e-e0b6-ff0e-294a-8332d8b2c83b</td>\n",
       "      <td>117</td>\n",
       "      <td>1965</td>\n",
       "    </tr>\n",
       "    <tr>\n",
       "      <td>4</td>\n",
       "      <td>央视新闻</td>\n",
       "      <td>东方时空</td>\n",
       "      <td>2021</td>\n",
       "      <td>8</td>\n",
       "      <td>1</td>\n",
       "      <td>疫情传播链仍在延长 各地紧急加强防控·福建厦门 厦门召开第三场疫情防控新闻发布会</td>\n",
       "      <td>那记者从厦门市第三场疫情防控发布会上了解到</td>\n",
       "      <td></td>\n",
       "      <td>d17e1e48-3f3d-3e64-c025-c6bd713ad1f4</td>\n",
       "      <td>117</td>\n",
       "      <td>1932</td>\n",
       "    </tr>\n",
       "    <tr>\n",
       "      <td>...</td>\n",
       "      <td>...</td>\n",
       "      <td>...</td>\n",
       "      <td>...</td>\n",
       "      <td>...</td>\n",
       "      <td>...</td>\n",
       "      <td>...</td>\n",
       "      <td>...</td>\n",
       "      <td>...</td>\n",
       "      <td>...</td>\n",
       "      <td>...</td>\n",
       "      <td>...</td>\n",
       "    </tr>\n",
       "    <tr>\n",
       "      <td>90</td>\n",
       "      <td>央视新闻</td>\n",
       "      <td>新闻直播间</td>\n",
       "      <td>2021</td>\n",
       "      <td>8</td>\n",
       "      <td>1</td>\n",
       "      <td>河南郑州 确诊11名新冠肺炎患者 16名无症状感染者</td>\n",
       "      <td>郑州市召开新关税肺炎疫情防控新闻发布会</td>\n",
       "      <td></td>\n",
       "      <td>9730c086-0dd7-8d29-6a23-10dfb3deba36</td>\n",
       "      <td>117</td>\n",
       "      <td>2348</td>\n",
       "    </tr>\n",
       "    <tr>\n",
       "      <td>91</td>\n",
       "      <td>央视新闻</td>\n",
       "      <td>新闻直播间</td>\n",
       "      <td>2021</td>\n",
       "      <td>8</td>\n",
       "      <td>1</td>\n",
       "      <td>江苏扬州 瘦西湖 大明寺等景区暂停开放</td>\n",
       "      <td>根据疫情发展形势</td>\n",
       "      <td></td>\n",
       "      <td>f487489b-18c7-0ecd-bd95-9ae8d5f3da9a</td>\n",
       "      <td>117</td>\n",
       "      <td>2348</td>\n",
       "    </tr>\n",
       "    <tr>\n",
       "      <td>92</td>\n",
       "      <td>央视新闻</td>\n",
       "      <td>午夜新闻</td>\n",
       "      <td>2021</td>\n",
       "      <td>8</td>\n",
       "      <td>1</td>\n",
       "      <td>国务院联防联控机制发布会 本轮疫情仍有扩散风险</td>\n",
       "      <td>再来关注常态化疫情防控</td>\n",
       "      <td></td>\n",
       "      <td>328415f0-8abf-5c3f-ef54-591e455567b4</td>\n",
       "      <td>117</td>\n",
       "      <td>1969</td>\n",
       "    </tr>\n",
       "    <tr>\n",
       "      <td>93</td>\n",
       "      <td>央视新闻</td>\n",
       "      <td>24小时</td>\n",
       "      <td>2021</td>\n",
       "      <td>8</td>\n",
       "      <td>1</td>\n",
       "      <td>新冠肺炎疫情·美国 日均新增超6.6万例 疫情反弹引担忧</td>\n",
       "      <td>疫情的发展形式让人担忧</td>\n",
       "      <td></td>\n",
       "      <td>b0166866-c92d-2121-60d2-bb4eac416a63</td>\n",
       "      <td>117</td>\n",
       "      <td>1965</td>\n",
       "    </tr>\n",
       "    <tr>\n",
       "      <td>94</td>\n",
       "      <td>央视新闻</td>\n",
       "      <td>24小时</td>\n",
       "      <td>2021</td>\n",
       "      <td>8</td>\n",
       "      <td>1</td>\n",
       "      <td>世卫组织新冠疫情例行发布会 预计未来两周全球累计确诊将超过两亿例</td>\n",
       "      <td>世界卫生组织举行了新的肺炎疫情例行发布会</td>\n",
       "      <td></td>\n",
       "      <td>75028d5b-0380-44ad-d79a-5e0a041e282e</td>\n",
       "      <td>117</td>\n",
       "      <td>1965</td>\n",
       "    </tr>\n",
       "  </tbody>\n",
       "</table>\n",
       "<p>95 rows × 11 columns</p>\n",
       "</div>"
      ],
      "text/plain": [
       "   channel programme  year month day  \\\n",
       "0     央视新闻      24小时  2021     8   1   \n",
       "1     央视新闻      24小时  2021     8   1   \n",
       "2     央视新闻      24小时  2021     8   1   \n",
       "3     央视新闻      24小时  2021     8   1   \n",
       "4     央视新闻      东方时空  2021     8   1   \n",
       "..     ...       ...   ...   ...  ..   \n",
       "90    央视新闻     新闻直播间  2021     8   1   \n",
       "91    央视新闻     新闻直播间  2021     8   1   \n",
       "92    央视新闻      午夜新闻  2021     8   1   \n",
       "93    央视新闻      24小时  2021     8   1   \n",
       "94    央视新闻      24小时  2021     8   1   \n",
       "\n",
       "                                         title  \\\n",
       "0     疫情传播链仍在延长 各地紧急加强防控·北京 北京昌平第二轮核酸排查 结果均为阴性   \n",
       "1    疫情传播链仍在延长 各地紧急加强防控·江苏 南京三轮全员核酸检测 累计报告204例   \n",
       "2   疫情传播链仍在延长 各地紧急加强防控·江苏南京 今起开始补检 移动核酸检测车开进小区   \n",
       "3      聚焦奥运 东京奥运会第9个比赛日·男子100米决赛 苏炳添：超越自我 全力奔跑   \n",
       "4     疫情传播链仍在延长 各地紧急加强防控·福建厦门 厦门召开第三场疫情防控新闻发布会   \n",
       "..                                         ...   \n",
       "90                  河南郑州 确诊11名新冠肺炎患者 16名无症状感染者   \n",
       "91                         江苏扬州 瘦西湖 大明寺等景区暂停开放   \n",
       "92                     国务院联防联控机制发布会 本轮疫情仍有扩散风险   \n",
       "93                新冠肺炎疫情·美国 日均新增超6.6万例 疫情反弹引担忧   \n",
       "94            世卫组织新冠疫情例行发布会 预计未来两周全球累计确诊将超过两亿例   \n",
       "\n",
       "                                     tags vtext  \\\n",
       "0                            为及时控制疫情赢得了时间         \n",
       "1   南京在疫情防控发布会上介绍去20号至今的南京全市全是已经进行的三轮核酸检测         \n",
       "2                             根据当前疫情发展的情况         \n",
       "3                              此后相关疫情突然暴发         \n",
       "4                   那记者从厦门市第三场疫情防控发布会上了解到         \n",
       "..                                    ...   ...   \n",
       "90                    郑州市召开新关税肺炎疫情防控新闻发布会         \n",
       "91                               根据疫情发展形势         \n",
       "92                            再来关注常态化疫情防控         \n",
       "93                            疫情的发展形式让人担忧         \n",
       "94                   世界卫生组织举行了新的肺炎疫情例行发布会         \n",
       "\n",
       "                                    uuid  uid   pid  \n",
       "0   d7034f5c-4b9c-d426-4b9d-1f3db36f4cbf  117  1965  \n",
       "1   151e60dc-02eb-d757-3bf6-7eca57f0a021  117  1965  \n",
       "2   6962e80f-7023-8750-a10a-f52eae3e77e1  117  1965  \n",
       "3   1dfdd89e-e0b6-ff0e-294a-8332d8b2c83b  117  1965  \n",
       "4   d17e1e48-3f3d-3e64-c025-c6bd713ad1f4  117  1932  \n",
       "..                                   ...  ...   ...  \n",
       "90  9730c086-0dd7-8d29-6a23-10dfb3deba36  117  2348  \n",
       "91  f487489b-18c7-0ecd-bd95-9ae8d5f3da9a  117  2348  \n",
       "92  328415f0-8abf-5c3f-ef54-591e455567b4  117  1969  \n",
       "93  b0166866-c92d-2121-60d2-bb4eac416a63  117  1965  \n",
       "94  75028d5b-0380-44ad-d79a-5e0a041e282e  117  1965  \n",
       "\n",
       "[95 rows x 11 columns]"
      ]
     },
     "execution_count": 28,
     "metadata": {},
     "output_type": "execute_result"
    }
   ],
   "source": [
    "### Tests: days with low and high COVID cases\n",
    "\n",
    "low_day = make_results(make_list('疫', '2021-08-01', '2021-08-01', ['央视新闻'], lite=True))\n",
    "low_day"
   ]
  },
  {
   "cell_type": "code",
   "execution_count": 27,
   "metadata": {},
   "outputs": [
    {
     "name": "stdout",
     "output_type": "stream",
     "text": [
      "****** 2021-12-20 ******\n",
      "1. 央视新闻\n"
     ]
    },
    {
     "name": "stderr",
     "output_type": "stream",
     "text": [
      "Page progress: 100%|██████████| 12/12 [02:00<00:00, 10.03s/it]\n"
     ]
    },
    {
     "name": "stdout",
     "output_type": "stream",
     "text": [
      "*** Making Dataframe ***\n"
     ]
    },
    {
     "name": "stderr",
     "output_type": "stream",
     "text": [
      "Making dataframe: 100%|██████████| 139/139 [00:00<00:00, 172.64it/s]\n"
     ]
    },
    {
     "data": {
      "text/html": [
       "<div>\n",
       "<style scoped>\n",
       "    .dataframe tbody tr th:only-of-type {\n",
       "        vertical-align: middle;\n",
       "    }\n",
       "\n",
       "    .dataframe tbody tr th {\n",
       "        vertical-align: top;\n",
       "    }\n",
       "\n",
       "    .dataframe thead th {\n",
       "        text-align: right;\n",
       "    }\n",
       "</style>\n",
       "<table border=\"1\" class=\"dataframe\">\n",
       "  <thead>\n",
       "    <tr style=\"text-align: right;\">\n",
       "      <th></th>\n",
       "      <th>channel</th>\n",
       "      <th>programme</th>\n",
       "      <th>year</th>\n",
       "      <th>month</th>\n",
       "      <th>day</th>\n",
       "      <th>title</th>\n",
       "      <th>tags</th>\n",
       "      <th>vtext</th>\n",
       "      <th>uuid</th>\n",
       "      <th>uid</th>\n",
       "      <th>pid</th>\n",
       "    </tr>\n",
       "  </thead>\n",
       "  <tbody>\n",
       "    <tr>\n",
       "      <td>0</td>\n",
       "      <td>央视新闻</td>\n",
       "      <td>24小时</td>\n",
       "      <td>2021</td>\n",
       "      <td>12</td>\n",
       "      <td>20</td>\n",
       "      <td>“汉语盘点2021”揭晓年度字词 “治” “建党百年” “疫” “元宇宙” 当选</td>\n",
       "      <td></td>\n",
       "      <td></td>\n",
       "      <td>ca2878cb-b95a-c812-9971-7e1c8c03b417</td>\n",
       "      <td>117</td>\n",
       "      <td>1965</td>\n",
       "    </tr>\n",
       "    <tr>\n",
       "      <td>1</td>\n",
       "      <td>央视新闻</td>\n",
       "      <td>24小时</td>\n",
       "      <td>2021</td>\n",
       "      <td>12</td>\n",
       "      <td>20</td>\n",
       "      <td>新冠肺炎疫情防控·国务院联防联控机制新闻发布会 全力防范疫情经海上输入</td>\n",
       "      <td>全力防范疫情经海上输入</td>\n",
       "      <td></td>\n",
       "      <td>1cff1bbf-e90a-04cd-9521-85f6ee466308</td>\n",
       "      <td>117</td>\n",
       "      <td>1965</td>\n",
       "    </tr>\n",
       "    <tr>\n",
       "      <td>2</td>\n",
       "      <td>央视新闻</td>\n",
       "      <td>24小时</td>\n",
       "      <td>2021</td>\n",
       "      <td>12</td>\n",
       "      <td>20</td>\n",
       "      <td>新冠肺炎疫情防控·国务院联防联控机制新闻发布会 全力做好重点时段疫情防控和运输服务保障</td>\n",
       "      <td>在疫情防控方面</td>\n",
       "      <td></td>\n",
       "      <td>5036ce70-f65c-3dc5-20f9-a1be2562e009</td>\n",
       "      <td>117</td>\n",
       "      <td>1965</td>\n",
       "    </tr>\n",
       "    <tr>\n",
       "      <td>3</td>\n",
       "      <td>央视新闻</td>\n",
       "      <td>24小时</td>\n",
       "      <td>2021</td>\n",
       "      <td>12</td>\n",
       "      <td>20</td>\n",
       "      <td>新冠肺炎疫情防控·国务院联防联控机制新闻发布会 基于全球疫情形势倡导非必要非紧急不出境</td>\n",
       "      <td>还是要密切的关注境外疫情信息和前往国的入境管制的要求</td>\n",
       "      <td></td>\n",
       "      <td>78f5bff1-7e83-86b1-7bf1-82beec9a4a39</td>\n",
       "      <td>117</td>\n",
       "      <td>1965</td>\n",
       "    </tr>\n",
       "    <tr>\n",
       "      <td>4</td>\n",
       "      <td>央视新闻</td>\n",
       "      <td>24小时</td>\n",
       "      <td>2021</td>\n",
       "      <td>12</td>\n",
       "      <td>20</td>\n",
       "      <td>新冠肺炎疫情防控·国务院联防联控机制新闻发布会 加强口岸管理 对人员流动严格管控</td>\n",
       "      <td>各地疫情精准防控</td>\n",
       "      <td></td>\n",
       "      <td>0fbe6997-bee5-ca58-9d2f-ceff6329d3bd</td>\n",
       "      <td>117</td>\n",
       "      <td>1965</td>\n",
       "    </tr>\n",
       "    <tr>\n",
       "      <td>...</td>\n",
       "      <td>...</td>\n",
       "      <td>...</td>\n",
       "      <td>...</td>\n",
       "      <td>...</td>\n",
       "      <td>...</td>\n",
       "      <td>...</td>\n",
       "      <td>...</td>\n",
       "      <td>...</td>\n",
       "      <td>...</td>\n",
       "      <td>...</td>\n",
       "      <td>...</td>\n",
       "    </tr>\n",
       "    <tr>\n",
       "      <td>134</td>\n",
       "      <td>央视新闻</td>\n",
       "      <td>午夜新闻</td>\n",
       "      <td>2021</td>\n",
       "      <td>12</td>\n",
       "      <td>20</td>\n",
       "      <td>德国 新冠肺炎疫情 从英国入境德国旅客必须强制隔离两周</td>\n",
       "      <td>无论是否已接种相关疫苗或者感染后已康复</td>\n",
       "      <td></td>\n",
       "      <td>8817a032-0068-79ed-2bb5-7a19329b7ae5</td>\n",
       "      <td>117</td>\n",
       "      <td>1969</td>\n",
       "    </tr>\n",
       "    <tr>\n",
       "      <td>135</td>\n",
       "      <td>央视新闻</td>\n",
       "      <td>午夜新闻</td>\n",
       "      <td>2021</td>\n",
       "      <td>12</td>\n",
       "      <td>20</td>\n",
       "      <td>伊朗 新冠肺炎疫情 伊朗首次报告奥密克戎毒株感染病例</td>\n",
       "      <td>全球疫情方面</td>\n",
       "      <td></td>\n",
       "      <td>84184a92-fbb2-81c1-7417-a0f3f2b7c421</td>\n",
       "      <td>117</td>\n",
       "      <td>1969</td>\n",
       "    </tr>\n",
       "    <tr>\n",
       "      <td>136</td>\n",
       "      <td>央视新闻</td>\n",
       "      <td>午夜新闻</td>\n",
       "      <td>2021</td>\n",
       "      <td>12</td>\n",
       "      <td>20</td>\n",
       "      <td>浙江 新冠肺炎疫情防控 采取积极措施 加强疫情防控</td>\n",
       "      <td>浙江省也积极采取多种措施加强疫情防控</td>\n",
       "      <td></td>\n",
       "      <td>d5363e8b-9b71-1f07-dacf-66317ea46af0</td>\n",
       "      <td>117</td>\n",
       "      <td>1969</td>\n",
       "    </tr>\n",
       "    <tr>\n",
       "      <td>137</td>\n",
       "      <td>央视新闻</td>\n",
       "      <td>午夜新闻</td>\n",
       "      <td>2021</td>\n",
       "      <td>12</td>\n",
       "      <td>20</td>\n",
       "      <td>内蒙古 新冠肺炎疫情防控 满洲里首批集中隔离人员解除隔离</td>\n",
       "      <td>继续来关注疫情防控</td>\n",
       "      <td></td>\n",
       "      <td>1621ca08-3ded-26c8-7a14-ffd803dc13af</td>\n",
       "      <td>117</td>\n",
       "      <td>1969</td>\n",
       "    </tr>\n",
       "    <tr>\n",
       "      <td>138</td>\n",
       "      <td>央视新闻</td>\n",
       "      <td>24小时</td>\n",
       "      <td>2021</td>\n",
       "      <td>12</td>\n",
       "      <td>20</td>\n",
       "      <td>世卫：全球89个国家和地区发现奥密克戎感染病例 “三天翻番” 世卫警示奥密克戎传播迅速</td>\n",
       "      <td>奥秘克隆读书在完成疫苗接种人口比例高的国家和地区传播迅速</td>\n",
       "      <td></td>\n",
       "      <td>af7adc30-116f-ed20-a646-55f21745aa7e</td>\n",
       "      <td>117</td>\n",
       "      <td>1965</td>\n",
       "    </tr>\n",
       "  </tbody>\n",
       "</table>\n",
       "<p>139 rows × 11 columns</p>\n",
       "</div>"
      ],
      "text/plain": [
       "    channel programme  year month day  \\\n",
       "0      央视新闻      24小时  2021    12  20   \n",
       "1      央视新闻      24小时  2021    12  20   \n",
       "2      央视新闻      24小时  2021    12  20   \n",
       "3      央视新闻      24小时  2021    12  20   \n",
       "4      央视新闻      24小时  2021    12  20   \n",
       "..      ...       ...   ...   ...  ..   \n",
       "134    央视新闻      午夜新闻  2021    12  20   \n",
       "135    央视新闻      午夜新闻  2021    12  20   \n",
       "136    央视新闻      午夜新闻  2021    12  20   \n",
       "137    央视新闻      午夜新闻  2021    12  20   \n",
       "138    央视新闻      24小时  2021    12  20   \n",
       "\n",
       "                                           title  \\\n",
       "0       “汉语盘点2021”揭晓年度字词 “治” “建党百年” “疫” “元宇宙” 当选   \n",
       "1            新冠肺炎疫情防控·国务院联防联控机制新闻发布会 全力防范疫情经海上输入   \n",
       "2    新冠肺炎疫情防控·国务院联防联控机制新闻发布会 全力做好重点时段疫情防控和运输服务保障   \n",
       "3    新冠肺炎疫情防控·国务院联防联控机制新闻发布会 基于全球疫情形势倡导非必要非紧急不出境   \n",
       "4       新冠肺炎疫情防控·国务院联防联控机制新闻发布会 加强口岸管理 对人员流动严格管控   \n",
       "..                                           ...   \n",
       "134                  德国 新冠肺炎疫情 从英国入境德国旅客必须强制隔离两周   \n",
       "135                   伊朗 新冠肺炎疫情 伊朗首次报告奥密克戎毒株感染病例   \n",
       "136                    浙江 新冠肺炎疫情防控 采取积极措施 加强疫情防控   \n",
       "137                 内蒙古 新冠肺炎疫情防控 满洲里首批集中隔离人员解除隔离   \n",
       "138  世卫：全球89个国家和地区发现奥密克戎感染病例 “三天翻番” 世卫警示奥密克戎传播迅速   \n",
       "\n",
       "                             tags vtext                                  uuid  \\\n",
       "0                                        ca2878cb-b95a-c812-9971-7e1c8c03b417   \n",
       "1                     全力防范疫情经海上输入        1cff1bbf-e90a-04cd-9521-85f6ee466308   \n",
       "2                         在疫情防控方面        5036ce70-f65c-3dc5-20f9-a1be2562e009   \n",
       "3      还是要密切的关注境外疫情信息和前往国的入境管制的要求        78f5bff1-7e83-86b1-7bf1-82beec9a4a39   \n",
       "4                        各地疫情精准防控        0fbe6997-bee5-ca58-9d2f-ceff6329d3bd   \n",
       "..                            ...   ...                                   ...   \n",
       "134           无论是否已接种相关疫苗或者感染后已康复        8817a032-0068-79ed-2bb5-7a19329b7ae5   \n",
       "135                        全球疫情方面        84184a92-fbb2-81c1-7417-a0f3f2b7c421   \n",
       "136            浙江省也积极采取多种措施加强疫情防控        d5363e8b-9b71-1f07-dacf-66317ea46af0   \n",
       "137                     继续来关注疫情防控        1621ca08-3ded-26c8-7a14-ffd803dc13af   \n",
       "138  奥秘克隆读书在完成疫苗接种人口比例高的国家和地区传播迅速        af7adc30-116f-ed20-a646-55f21745aa7e   \n",
       "\n",
       "     uid   pid  \n",
       "0    117  1965  \n",
       "1    117  1965  \n",
       "2    117  1965  \n",
       "3    117  1965  \n",
       "4    117  1965  \n",
       "..   ...   ...  \n",
       "134  117  1969  \n",
       "135  117  1969  \n",
       "136  117  1969  \n",
       "137  117  1969  \n",
       "138  117  1965  \n",
       "\n",
       "[139 rows x 11 columns]"
      ]
     },
     "execution_count": 27,
     "metadata": {},
     "output_type": "execute_result"
    }
   ],
   "source": [
    "high_day = make_results(make_list('疫', '2021-12-20', '2021-12-20', ['央视新闻'], lite=True))\n",
    "high_day"
   ]
  },
  {
   "cell_type": "code",
   "execution_count": null,
   "metadata": {},
   "outputs": [],
   "source": []
  }
 ],
 "metadata": {
  "kernelspec": {
   "display_name": "Python 3",
   "language": "python",
   "name": "python3"
  },
  "language_info": {
   "codemirror_mode": {
    "name": "ipython",
    "version": 3
   },
   "file_extension": ".py",
   "mimetype": "text/x-python",
   "name": "python",
   "nbconvert_exporter": "python",
   "pygments_lexer": "ipython3",
   "version": "3.7.4"
  }
 },
 "nbformat": 4,
 "nbformat_minor": 4
}
